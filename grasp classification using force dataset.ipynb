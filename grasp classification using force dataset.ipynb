{
 "cells": [
  {
   "cell_type": "code",
   "execution_count": 24,
   "id": "30ef4793",
   "metadata": {
    "collapsed": true
   },
   "outputs": [],
   "source": [
    "import pandas as pd\n",
    "import numpy as np\n",
    "from sklearn.preprocessing import OneHotEncoder, StandardScaler , MinMaxScaler\n",
    "from sklearn.metrics import accuracy_score, precision_score,roc_auc_score,confusion_matrix, classification_report\n",
    "from sklearn.model_selection import KFold, cross_val_score, train_test_split,GridSearchCV"
   ]
  },
  {
   "cell_type": "code",
   "execution_count": 25,
   "id": "3bcb6a76",
   "metadata": {
    "collapsed": true
   },
   "outputs": [],
   "source": [
    "from sklearn.svm import SVC\n",
    "from sklearn.tree import DecisionTreeClassifier\n",
    "from sklearn.ensemble import RandomForestClassifier\n",
    "from sklearn.neighbors import KNeighborsClassifier"
   ]
  },
  {
   "cell_type": "code",
   "execution_count": 26,
   "id": "17ed7163",
   "metadata": {
    "collapsed": true
   },
   "outputs": [],
   "source": [
    "import tensorflow as tf\n",
    "from keras.models import Sequential\n",
    "from tensorflow.keras.layers import Dense,BatchNormalization, ReLU,Input,Dropout"
   ]
  },
  {
   "cell_type": "code",
   "execution_count": 27,
   "id": "87f98518",
   "metadata": {
    "collapsed": true
   },
   "outputs": [],
   "source": [
    "from scikeras.wrappers import KerasClassifier    #for scikit wrapper\n",
    "from tensorflow.keras.callbacks import ModelCheckpoint, EarlyStopping\n",
    "import matplotlib.pyplot as plt"
   ]
  },
  {
   "cell_type": "code",
   "execution_count": 46,
   "id": "6afb215f",
   "metadata": {},
   "outputs": [],
   "source": [
    "from sklearn.naive_bayes import GaussianNB"
   ]
  },
  {
   "cell_type": "markdown",
   "id": "4198d250",
   "metadata": {},
   "source": [
    "# Data Preprocessing "
   ]
  },
  {
   "cell_type": "code",
   "execution_count": 29,
   "id": "0c273f3a",
   "metadata": {
    "collapsed": true
   },
   "outputs": [
    {
     "name": "stdout",
     "output_type": "stream",
     "text": [
      "   Time [s]  Thumb  Index  Middle   Ring  Pinky             Object Grasp  \\\n",
      "0   331.982  0.290 -0.043   0.141 -0.164  0.948  Skillet lid (T01)  Hook   \n",
      "1   332.482  0.284 -0.023   0.133 -0.176  0.944  Skillet lid (T01)  Hook   \n",
      "2   332.982  0.294 -0.012   0.145 -0.195  0.948  Skillet lid (T01)  Hook   \n",
      "3   333.482  0.284 -0.012   0.141 -0.199  0.940  Skillet lid (T01)  Hook   \n",
      "4   333.982  0.288 -0.004   0.156 -0.188  0.936  Skillet lid (T01)  Hook   \n",
      "\n",
      "   Mass(g)  \n",
      "0   220.03  \n",
      "1   220.03  \n",
      "2   220.03  \n",
      "3   220.03  \n",
      "4   220.03  \n"
     ]
    }
   ],
   "source": [
    "df = pd.read_csv('force dataset grasp classification.csv')\n",
    "print(df.head())"
   ]
  },
  {
   "cell_type": "code",
   "execution_count": 30,
   "id": "f6a068c6",
   "metadata": {
    "collapsed": true
   },
   "outputs": [
    {
     "data": {
      "text/html": [
       "<div>\n",
       "<style scoped>\n",
       "    .dataframe tbody tr th:only-of-type {\n",
       "        vertical-align: middle;\n",
       "    }\n",
       "\n",
       "    .dataframe tbody tr th {\n",
       "        vertical-align: top;\n",
       "    }\n",
       "\n",
       "    .dataframe thead th {\n",
       "        text-align: right;\n",
       "    }\n",
       "</style>\n",
       "<table border=\"1\" class=\"dataframe\">\n",
       "  <thead>\n",
       "    <tr style=\"text-align: right;\">\n",
       "      <th></th>\n",
       "      <th>Thumb</th>\n",
       "      <th>Index</th>\n",
       "      <th>Middle</th>\n",
       "      <th>Ring</th>\n",
       "      <th>Pinky</th>\n",
       "      <th>Object</th>\n",
       "      <th>Grasp</th>\n",
       "    </tr>\n",
       "  </thead>\n",
       "  <tbody>\n",
       "    <tr>\n",
       "      <th>0</th>\n",
       "      <td>0.290</td>\n",
       "      <td>-0.043</td>\n",
       "      <td>0.141</td>\n",
       "      <td>-0.164</td>\n",
       "      <td>0.948</td>\n",
       "      <td>Skillet lid (T01)</td>\n",
       "      <td>Hook</td>\n",
       "    </tr>\n",
       "    <tr>\n",
       "      <th>1</th>\n",
       "      <td>0.284</td>\n",
       "      <td>-0.023</td>\n",
       "      <td>0.133</td>\n",
       "      <td>-0.176</td>\n",
       "      <td>0.944</td>\n",
       "      <td>Skillet lid (T01)</td>\n",
       "      <td>Hook</td>\n",
       "    </tr>\n",
       "    <tr>\n",
       "      <th>2</th>\n",
       "      <td>0.294</td>\n",
       "      <td>-0.012</td>\n",
       "      <td>0.145</td>\n",
       "      <td>-0.195</td>\n",
       "      <td>0.948</td>\n",
       "      <td>Skillet lid (T01)</td>\n",
       "      <td>Hook</td>\n",
       "    </tr>\n",
       "    <tr>\n",
       "      <th>3</th>\n",
       "      <td>0.284</td>\n",
       "      <td>-0.012</td>\n",
       "      <td>0.141</td>\n",
       "      <td>-0.199</td>\n",
       "      <td>0.940</td>\n",
       "      <td>Skillet lid (T01)</td>\n",
       "      <td>Hook</td>\n",
       "    </tr>\n",
       "    <tr>\n",
       "      <th>4</th>\n",
       "      <td>0.288</td>\n",
       "      <td>-0.004</td>\n",
       "      <td>0.156</td>\n",
       "      <td>-0.188</td>\n",
       "      <td>0.936</td>\n",
       "      <td>Skillet lid (T01)</td>\n",
       "      <td>Hook</td>\n",
       "    </tr>\n",
       "    <tr>\n",
       "      <th>...</th>\n",
       "      <td>...</td>\n",
       "      <td>...</td>\n",
       "      <td>...</td>\n",
       "      <td>...</td>\n",
       "      <td>...</td>\n",
       "      <td>...</td>\n",
       "      <td>...</td>\n",
       "    </tr>\n",
       "    <tr>\n",
       "      <th>16951</th>\n",
       "      <td>-0.040</td>\n",
       "      <td>-0.040</td>\n",
       "      <td>0.090</td>\n",
       "      <td>0.110</td>\n",
       "      <td>0.120</td>\n",
       "      <td>Washer (T26)</td>\n",
       "      <td>Pulp Pinch (PP)</td>\n",
       "    </tr>\n",
       "    <tr>\n",
       "      <th>16952</th>\n",
       "      <td>-0.020</td>\n",
       "      <td>-0.050</td>\n",
       "      <td>0.110</td>\n",
       "      <td>0.120</td>\n",
       "      <td>0.100</td>\n",
       "      <td>Washer (T26)</td>\n",
       "      <td>Pulp Pinch (PP)</td>\n",
       "    </tr>\n",
       "    <tr>\n",
       "      <th>16953</th>\n",
       "      <td>-0.010</td>\n",
       "      <td>-0.060</td>\n",
       "      <td>0.110</td>\n",
       "      <td>0.130</td>\n",
       "      <td>0.110</td>\n",
       "      <td>Washer (T26)</td>\n",
       "      <td>Pulp Pinch (PP)</td>\n",
       "    </tr>\n",
       "    <tr>\n",
       "      <th>16954</th>\n",
       "      <td>-0.010</td>\n",
       "      <td>-0.060</td>\n",
       "      <td>0.110</td>\n",
       "      <td>0.120</td>\n",
       "      <td>0.120</td>\n",
       "      <td>Washer (T26)</td>\n",
       "      <td>Pulp Pinch (PP)</td>\n",
       "    </tr>\n",
       "    <tr>\n",
       "      <th>16955</th>\n",
       "      <td>-0.010</td>\n",
       "      <td>-0.050</td>\n",
       "      <td>0.110</td>\n",
       "      <td>0.120</td>\n",
       "      <td>0.120</td>\n",
       "      <td>Washer (T26)</td>\n",
       "      <td>Pulp Pinch (PP)</td>\n",
       "    </tr>\n",
       "  </tbody>\n",
       "</table>\n",
       "<p>16956 rows × 7 columns</p>\n",
       "</div>"
      ],
      "text/plain": [
       "       Thumb  Index  Middle   Ring  Pinky             Object            Grasp\n",
       "0      0.290 -0.043   0.141 -0.164  0.948  Skillet lid (T01)             Hook\n",
       "1      0.284 -0.023   0.133 -0.176  0.944  Skillet lid (T01)             Hook\n",
       "2      0.294 -0.012   0.145 -0.195  0.948  Skillet lid (T01)             Hook\n",
       "3      0.284 -0.012   0.141 -0.199  0.940  Skillet lid (T01)             Hook\n",
       "4      0.288 -0.004   0.156 -0.188  0.936  Skillet lid (T01)             Hook\n",
       "...      ...    ...     ...    ...    ...                ...              ...\n",
       "16951 -0.040 -0.040   0.090  0.110  0.120      Washer (T26)   Pulp Pinch (PP)\n",
       "16952 -0.020 -0.050   0.110  0.120  0.100      Washer (T26)   Pulp Pinch (PP)\n",
       "16953 -0.010 -0.060   0.110  0.130  0.110      Washer (T26)   Pulp Pinch (PP)\n",
       "16954 -0.010 -0.060   0.110  0.120  0.120      Washer (T26)   Pulp Pinch (PP)\n",
       "16955 -0.010 -0.050   0.110  0.120  0.120      Washer (T26)   Pulp Pinch (PP)\n",
       "\n",
       "[16956 rows x 7 columns]"
      ]
     },
     "execution_count": 30,
     "metadata": {},
     "output_type": "execute_result"
    }
   ],
   "source": [
    "newdf = df[['Thumb','Index','Middle','Ring','Pinky','Object','Grasp']]\n",
    "newdf"
   ]
  },
  {
   "cell_type": "code",
   "execution_count": 31,
   "id": "8c841f45",
   "metadata": {
    "collapsed": true
   },
   "outputs": [
    {
     "data": {
      "text/plain": [
       "24"
      ]
     },
     "execution_count": 31,
     "metadata": {},
     "output_type": "execute_result"
    }
   ],
   "source": [
    "newdf.Object.value_counts().size"
   ]
  },
  {
   "cell_type": "code",
   "execution_count": 32,
   "id": "276aedfb",
   "metadata": {
    "collapsed": true
   },
   "outputs": [
    {
     "name": "stdout",
     "output_type": "stream",
     "text": [
      "Grasp                       Object                \n",
      " Diagonal Volar Grip (DVG)  Screwdriver (T06)          700\n",
      "                            Skillet (T24)              719\n",
      "                            Spatula (T15)              584\n",
      "Cylindrical Grip (CG)       Chips Can (T05)            808\n",
      "                            Coffee Can (T14)           869\n",
      "                            Power Drill (T23)          890\n",
      "Extension Grip (EG)         Craker Box (T13)           844\n",
      "                            Plate (T04)               1044\n",
      "                            Tetra Pack (T22)           651\n",
      "Hook                        Coffee Cup (T19)           957\n",
      "                            Pitcher base (T10)         894\n",
      "                            Skillet lid (T01)          476\n",
      "Lateral Pinch (LP)          Bowl (T07)                 630\n",
      "                            Key (T25)                  344\n",
      "                            XS Clamp (T16)             608\n",
      "Pulp Pinch (PP)             Plastic Peer (T17)         515\n",
      "                            Small Marker (T08)         341\n",
      "                            Washer (T26)               352\n",
      "Spherical Grasp (SG)        Apple (T02)                950\n",
      "                            Mini Soccer ball (T11)     724\n",
      "                            Softball (T20)             974\n",
      "Tripod Pionch (TP)          Golf Ball (T21)            676\n",
      "                            Large Marker (T03)         627\n",
      "                            Tuna Can (T12)             779\n",
      "dtype: int64\n"
     ]
    }
   ],
   "source": [
    "grasp_object_counts = newdf.groupby(['Grasp', 'Object']).size()\n",
    "\n",
    "# Display the result\n",
    "print(grasp_object_counts)"
   ]
  },
  {
   "cell_type": "code",
   "execution_count": 33,
   "id": "e74a31dd",
   "metadata": {
    "collapsed": true
   },
   "outputs": [
    {
     "data": {
      "text/plain": [
       "8"
      ]
     },
     "execution_count": 33,
     "metadata": {},
     "output_type": "execute_result"
    }
   ],
   "source": [
    "test_objects = ['Spatula (T15)','Coffee Can (T14)','Tetra Pack (T22)','Skillet lid (T01)','Key (T25)','Small Marker (T08)','Mini Soccer ball (T11)','Large Marker (T03)']\n",
    "len(test_objects)"
   ]
  },
  {
   "cell_type": "code",
   "execution_count": 34,
   "id": "7d76c234",
   "metadata": {
    "collapsed": true
   },
   "outputs": [],
   "source": [
    "# print(newdf.shape)\n",
    "# training_data = newdf[~newdf['Object'].isin(test_objects)]\n",
    "# test_data = newdf[newdf['Object'].isin(test_objects)]\n",
    "# print(training_data.shape)\n",
    "# print(test_data.shape)"
   ]
  },
  {
   "cell_type": "code",
   "execution_count": 35,
   "id": "54ad54b9",
   "metadata": {
    "collapsed": true
   },
   "outputs": [],
   "source": [
    "# trainy = training_data.Grasp\n",
    "# trainx = training_data.drop(\"Grasp\",axis='columns')\n",
    "# testy = test_data.Grasp\n",
    "# testx = test_data.drop(\"Grasp\",axis='columns')\n",
    "# print(trainx)\n",
    "# print(trainy)"
   ]
  },
  {
   "cell_type": "code",
   "execution_count": 36,
   "id": "4c297239",
   "metadata": {
    "collapsed": true
   },
   "outputs": [
    {
     "name": "stdout",
     "output_type": "stream",
     "text": [
      "       Thumb  Index  Middle   Ring  Pinky             Object\n",
      "0      0.290 -0.043   0.141 -0.164  0.948  Skillet lid (T01)\n",
      "1      0.284 -0.023   0.133 -0.176  0.944  Skillet lid (T01)\n",
      "2      0.294 -0.012   0.145 -0.195  0.948  Skillet lid (T01)\n",
      "3      0.284 -0.012   0.141 -0.199  0.940  Skillet lid (T01)\n",
      "4      0.288 -0.004   0.156 -0.188  0.936  Skillet lid (T01)\n",
      "...      ...    ...     ...    ...    ...                ...\n",
      "16951 -0.040 -0.040   0.090  0.110  0.120      Washer (T26) \n",
      "16952 -0.020 -0.050   0.110  0.120  0.100      Washer (T26) \n",
      "16953 -0.010 -0.060   0.110  0.130  0.110      Washer (T26) \n",
      "16954 -0.010 -0.060   0.110  0.120  0.120      Washer (T26) \n",
      "16955 -0.010 -0.050   0.110  0.120  0.120      Washer (T26) \n",
      "\n",
      "[16956 rows x 6 columns]\n",
      "0                   Hook\n",
      "1                   Hook\n",
      "2                   Hook\n",
      "3                   Hook\n",
      "4                   Hook\n",
      "              ...       \n",
      "16951    Pulp Pinch (PP)\n",
      "16952    Pulp Pinch (PP)\n",
      "16953    Pulp Pinch (PP)\n",
      "16954    Pulp Pinch (PP)\n",
      "16955    Pulp Pinch (PP)\n",
      "Name: Grasp, Length: 16956, dtype: object\n"
     ]
    }
   ],
   "source": [
    "y = newdf.Grasp\n",
    "x= newdf.drop(\"Grasp\",axis='columns')\n",
    "print(x)\n",
    "print(y)"
   ]
  },
  {
   "cell_type": "code",
   "execution_count": 37,
   "id": "91f3ae06",
   "metadata": {
    "collapsed": true
   },
   "outputs": [
    {
     "name": "stdout",
     "output_type": "stream",
     "text": [
      "       Thumb  Index  Middle  Ring  Pinky               Object\n",
      "13375   3.78   1.04    0.46  0.75   1.56        Spatula (T15)\n",
      "8710    1.70   1.55    2.58  1.80   0.17     Craker Box (T13)\n",
      "1662    0.35   0.66    0.14 -0.57  -0.70  Pitcher base (T10) \n",
      "7765    0.13   0.29    0.13  0.21   1.18         Plate (T04) \n",
      "13572   0.06   0.00    0.00  0.05   0.10        Skillet (T24)\n",
      "...      ...    ...     ...   ...    ...                  ...\n",
      "9225   -0.09  -0.15    0.12  0.00   0.39     Tetra Pack (T22)\n",
      "13123   3.66   0.82    0.45  0.68   1.69        Spatula (T15)\n",
      "9845    1.85   1.96    2.02  2.41   0.20      Chips Can (T05)\n",
      "10799   3.61   1.94    1.14  2.18   2.24     Coffee Can (T14)\n",
      "2732    3.70   2.35    2.56  2.90   2.33          Apple (T02)\n",
      "\n",
      "[11869 rows x 6 columns]\n",
      "13375     Diagonal Volar Grip (DVG)\n",
      "8710            Extension Grip (EG)\n",
      "1662                           Hook\n",
      "7765            Extension Grip (EG)\n",
      "13572     Diagonal Volar Grip (DVG)\n",
      "                    ...            \n",
      "9225            Extension Grip (EG)\n",
      "13123     Diagonal Volar Grip (DVG)\n",
      "9845          Cylindrical Grip (CG)\n",
      "10799         Cylindrical Grip (CG)\n",
      "2732           Spherical Grasp (SG)\n",
      "Name: Grasp, Length: 11869, dtype: object\n"
     ]
    }
   ],
   "source": [
    "trainx,testx,trainy,testy = train_test_split(x,y,random_state=0,test_size=0.3)\n",
    "#dividing train and test randomly\n",
    "#if scaler is used before train test split, data leakage will happen because scaler will also be using information from \n",
    "#the then unsplit test set for scaling.\n",
    "print(trainx)\n",
    "print(trainy)"
   ]
  },
  {
   "cell_type": "code",
   "execution_count": 38,
   "id": "e0db42d6",
   "metadata": {
    "collapsed": true
   },
   "outputs": [],
   "source": [
    "numerical_cols = ['Thumb','Index','Middle','Ring','Pinky']\n",
    "categorical_cols = ['Object']"
   ]
  },
  {
   "cell_type": "code",
   "execution_count": 39,
   "id": "68351770",
   "metadata": {
    "collapsed": true
   },
   "outputs": [],
   "source": [
    "def preprocess_xxtest(x,xtest):\n",
    "    scaler = StandardScaler()\n",
    "    x[numerical_cols] = scaler.fit_transform(x[numerical_cols])\n",
    "    xtest[numerical_cols] = scaler.transform(xtest[numerical_cols])\n",
    "    x = x.drop(\"Object\",axis='columns')\n",
    "    xtest = xtest.drop(\"Object\",axis='columns')\n",
    "    return x.to_numpy(),xtest.to_numpy()\n",
    "\n",
    "def preprocess_y(y):\n",
    "    return pd.get_dummies(y).to_numpy()\n",
    "\n",
    "def preprocess_xxtest_dl(x,xtest):\n",
    "    scaler = MinMaxScaler()      #only change is here. This scaler should not be used when there are outliers.\n",
    "    x[numerical_cols] = scaler.fit_transform(x[numerical_cols])\n",
    "    xtest[numerical_cols] = scaler.transform(xtest[numerical_cols])\n",
    "    x = x.drop(\"Object\",axis='columns')\n",
    "    xtest = xtest.drop(\"Object\",axis='columns')\n",
    "    return x.to_numpy(),xtest.to_numpy()\n"
   ]
  },
  {
   "cell_type": "code",
   "execution_count": 40,
   "id": "68123e44",
   "metadata": {
    "collapsed": true
   },
   "outputs": [
    {
     "name": "stdout",
     "output_type": "stream",
     "text": [
      "[0 2 3 ... 1 1 6]\n",
      "[2 1 4 ... 7 6 1]\n"
     ]
    }
   ],
   "source": [
    "from sklearn.preprocessing import LabelEncoder\n",
    "trainy_label = trainy\n",
    "testy_label = testy\n",
    "encode = LabelEncoder()\n",
    "trainy_label = encode.fit_transform(trainy_label)\n",
    "testy_label = encode.transform(testy_label)\n",
    "print(trainy_label)\n",
    "print(testy_label)"
   ]
  },
  {
   "cell_type": "code",
   "execution_count": 41,
   "id": "f506946c",
   "metadata": {
    "collapsed": true
   },
   "outputs": [
    {
     "name": "stdout",
     "output_type": "stream",
     "text": [
      "[[ 1.0690581  -0.14819259 -0.5149372  -0.15136836  0.61250092]\n",
      " [-0.05530088  0.2294691   1.24824179  0.76343371 -0.52233255]\n",
      " [-0.78505311 -0.42958757 -0.78107743 -1.30140526 -1.232624  ]\n",
      " ...\n",
      " [ 0.0257827   0.53307947  0.78249639  1.29489015 -0.49783974]\n",
      " [ 0.97716337  0.51826921  0.05061077  1.09450494  1.16767125]\n",
      " [ 1.02581352  0.82187958  1.23160802  1.72179779  1.24114968]]\n",
      "[[-0.08773431  0.51826921  1.65576901  1.26875295 -0.00798357]\n",
      " [ 0.30687244  0.85150011 -0.53157097  0.34523848 -0.6692894 ]\n",
      " [-0.92559798 -0.89611083 -0.97236572 -0.82222322 -0.53866109]\n",
      " ...\n",
      " [ 0.50147304  0.41459737  0.34170165 -0.82222322 -0.82441052]\n",
      " [-0.64450823 -0.68136203 -0.58978914 -0.88321002 -1.02035299]\n",
      " [ 0.52309532  0.71080262  0.79913016  1.39943896 -0.13861188]]\n"
     ]
    }
   ],
   "source": [
    "dltrainx,dltestx = preprocess_xxtest_dl(trainx,testx)\n",
    "trainx,testx = preprocess_xxtest(trainx,testx)\n",
    "trainy_hot = preprocess_y(trainy)\n",
    "testy_hot = preprocess_y(testy)\n",
    "print(trainx)\n",
    "print(testx)"
   ]
  },
  {
   "cell_type": "code",
   "execution_count": 42,
   "id": "8748cafb",
   "metadata": {
    "collapsed": true
   },
   "outputs": [
    {
     "name": "stdout",
     "output_type": "stream",
     "text": [
      "[[0.38322487 0.36666667 0.19674355 0.40316901 0.38435754]\n",
      " [0.23282719 0.4152381  0.4843962  0.58802817 0.22905028]\n",
      " [0.1352133  0.33047619 0.15332429 0.17077465 0.13184358]\n",
      " ...\n",
      " [0.24367317 0.45428571 0.40841248 0.69542254 0.23240223]\n",
      " [0.37093275 0.45238095 0.2890095  0.65492958 0.4603352 ]\n",
      " [0.37744035 0.49142857 0.4816825  0.78169014 0.47039106]]\n",
      "[[0.22848879 0.45238095 0.55088195 0.69014085 0.29944134]\n",
      " [0.2812726  0.4952381  0.19402985 0.50352113 0.20893855]\n",
      " [0.11641359 0.27047619 0.12211669 0.26760563 0.22681564]\n",
      " ...\n",
      " [0.30730296 0.43904762 0.33649932 0.26760563 0.1877095 ]\n",
      " [0.15401302 0.29809524 0.18453189 0.25528169 0.16089385]\n",
      " [0.31019523 0.47714286 0.41112619 0.7165493  0.28156425]]\n",
      "[[ True False False ... False False False]\n",
      " [False False  True ... False False False]\n",
      " [False False False ... False False False]\n",
      " ...\n",
      " [False  True False ... False False False]\n",
      " [False  True False ... False False False]\n",
      " [False False False ... False  True False]]\n"
     ]
    }
   ],
   "source": [
    "print(dltrainx)\n",
    "print(dltestx)\n",
    "print(trainy_hot)"
   ]
  },
  {
   "cell_type": "code",
   "execution_count": null,
   "id": "6258b544",
   "metadata": {
    "collapsed": true
   },
   "outputs": [],
   "source": [
    "print(testy_label)"
   ]
  },
  {
   "cell_type": "markdown",
   "id": "7a7a7370",
   "metadata": {},
   "source": [
    "# SVM"
   ]
  },
  {
   "cell_type": "code",
   "execution_count": null,
   "id": "8e71acbf",
   "metadata": {
    "collapsed": true
   },
   "outputs": [],
   "source": [
    "for kernel in ['rbf','linear','poly']:\n",
    "    for C in [1,10,100,1000]:\n",
    "        if(kernel!='poly'):\n",
    "            model = SVC(kernel=kernel,C=C)\n",
    "            model.fit(trainx,trainy_label)\n",
    "            print(\"Training set score for SVM: %f\" % model.score(trainx, trainy_label))\n",
    "            print(\"Testing  set score for SVM: %f\" % model.score(testx, testy_label))\n",
    "        else:\n",
    "            for degree in [2,3,4,5]:\n",
    "                model = SVC(kernel=kernel,C=C,degree=degree)\n",
    "                model.fit(trainx,trainy_label)\n",
    "                print(\"Training set score for SVM: %f\" % model.score(trainx, trainy_label))\n",
    "                print(\"Testing  set score for SVM: %f\" % model.score(testx, testy_label))\n",
    "        print('&&----------------------------&&',kernel,C)"
   ]
  },
  {
   "cell_type": "code",
   "execution_count": null,
   "id": "4a50e440",
   "metadata": {
    "collapsed": true
   },
   "outputs": [],
   "source": [
    "param_grid_svm = [\n",
    "                {'kernel': ['rbf'], 'C': [500, 1000,2000,3000,5000,7000,10000]},\n",
    "                #{'kernel': ['linear'], 'C': [1, 10, 100, 1000]},\n",
    "                #{'kernel': ['poly'], 'C': [1,10,100,1000], 'degree':[2,3,4,5]}\n",
    "                 ]"
   ]
  },
  {
   "cell_type": "code",
   "execution_count": null,
   "id": "8d854648",
   "metadata": {
    "collapsed": true
   },
   "outputs": [],
   "source": [
    "grid_search_svm = GridSearchCV(SVC(), param_grid_svm, cv=5, verbose=2,n_jobs=-1)"
   ]
  },
  {
   "cell_type": "code",
   "execution_count": null,
   "id": "36afb02c",
   "metadata": {
    "collapsed": true
   },
   "outputs": [],
   "source": [
    "grid_search_svm.fit(trainx,trainy_label)"
   ]
  },
  {
   "cell_type": "code",
   "execution_count": null,
   "id": "a0c858cf",
   "metadata": {
    "collapsed": true
   },
   "outputs": [],
   "source": [
    "#View the accuracy score\n",
    "print('Best score for training data:', grid_search_svm.best_score_,\"\\n\") \n",
    "\n",
    "# View the best parameters for the model found using grid search\n",
    "print('Best C:',grid_search_svm.best_estimator_.C,\"\\n\") \n",
    "print('Best Kernel:',grid_search_svm.best_estimator_.kernel,\"\\n\")\n",
    "print('Best Gamma:',grid_search_svm.best_estimator_.gamma,\"\\n\")"
   ]
  },
  {
   "cell_type": "code",
   "execution_count": null,
   "id": "664ffc0d",
   "metadata": {
    "collapsed": true
   },
   "outputs": [],
   "source": [
    "svm_final_model = grid_search_svm.best_estimator_\n",
    "predictedy = svm_final_model.predict(testx)"
   ]
  },
  {
   "cell_type": "code",
   "execution_count": null,
   "id": "ba15a6c1",
   "metadata": {
    "collapsed": true
   },
   "outputs": [],
   "source": [
    "print(\"Training set score for SVM: %f\" % svm_final_model.score(trainx, trainy_label))\n",
    "print(\"Testing  set score for SVM: %f\" % svm_final_model.score(testx, testy_label))"
   ]
  },
  {
   "cell_type": "code",
   "execution_count": 23,
   "id": "722a90e9",
   "metadata": {
    "collapsed": true
   },
   "outputs": [
    {
     "ename": "NameError",
     "evalue": "name 'predictedy' is not defined",
     "output_type": "error",
     "traceback": [
      "\u001b[1;31m---------------------------------------------------------------------------\u001b[0m",
      "\u001b[1;31mNameError\u001b[0m                                 Traceback (most recent call last)",
      "Cell \u001b[1;32mIn[23], line 1\u001b[0m\n\u001b[1;32m----> 1\u001b[0m \u001b[38;5;28mprint\u001b[39m(confusion_matrix(testy_label,predictedy))\n",
      "\u001b[1;31mNameError\u001b[0m: name 'predictedy' is not defined"
     ]
    }
   ],
   "source": [
    "print(confusion_matrix(testy_label,predictedy))"
   ]
  },
  {
   "cell_type": "markdown",
   "id": "0c1cca2c",
   "metadata": {},
   "source": [
    "# Decision tree"
   ]
  },
  {
   "cell_type": "code",
   "execution_count": null,
   "id": "47c2f856",
   "metadata": {
    "collapsed": true
   },
   "outputs": [],
   "source": [
    "for criterion in ['gini', 'entropy','log_loss']:\n",
    "    for max_depth in [3, 5, 10, None]:\n",
    "        model = DecisionTreeClassifier(random_state=42,criterion=criterion,max_depth=max_depth)\n",
    "        model.fit(trainx,trainy_label)\n",
    "        print(\"Training set score for DT: %f\" % model.score(trainx, trainy_label))\n",
    "        print(\"Testing  set score for Dt: %f\" % model.score(testx, testy_label))       \n",
    "        print('&&----------------------------&&',criterion,max_depth)"
   ]
  },
  {
   "cell_type": "code",
   "execution_count": null,
   "id": "36c2869d",
   "metadata": {
    "collapsed": true
   },
   "outputs": [],
   "source": [
    "param_grid_dt = {\n",
    "    'criterion': ['gini', 'entropy','log_loss'],     # Try both 'gini' and 'entropy'\n",
    "    'max_depth': [None],        # Try different values of max_depth\n",
    "    'min_samples_split': [2, 5, 10],      # Varying minimum samples required to split an internal node, default = 2\n",
    "    'min_samples_leaf': [1, 2, 4],        # Varying minimum samples required to be at a leaf node, default = 1\n",
    "}"
   ]
  },
  {
   "cell_type": "code",
   "execution_count": null,
   "id": "75e4b1d1",
   "metadata": {
    "collapsed": true
   },
   "outputs": [],
   "source": [
    "grid_search_dt = GridSearchCV(estimator=DecisionTreeClassifier(random_state=42), param_grid=param_grid_dt, cv=5, verbose=2, n_jobs=-1)"
   ]
  },
  {
   "cell_type": "code",
   "execution_count": null,
   "id": "171ccdd9",
   "metadata": {
    "collapsed": true
   },
   "outputs": [],
   "source": [
    "grid_search_dt.fit(trainx,trainy_label)"
   ]
  },
  {
   "cell_type": "code",
   "execution_count": null,
   "id": "03a1c85c",
   "metadata": {
    "collapsed": true
   },
   "outputs": [],
   "source": [
    "# View the accuracy score\n",
    "print('Best score for training data:', grid_search_dt.best_score_,\"\\n\") \n",
    "\n",
    "# View the best parameters for the model found using grid search\n",
    "print('Best criterion:',grid_search_dt.best_estimator_.criterion,\"\\n\") \n",
    "print('Best max_depth:',grid_search_dt.best_estimator_.max_depth,\"\\n\")\n",
    "print('Best min_samples_split:',grid_search_dt.best_estimator_.min_samples_split,\"\\n\") \n",
    "print('Best min_samples_leaf:',grid_search_dt.best_estimator_.min_samples_leaf,\"\\n\")"
   ]
  },
  {
   "cell_type": "code",
   "execution_count": null,
   "id": "bd6f3ffd",
   "metadata": {
    "collapsed": true
   },
   "outputs": [],
   "source": [
    "dt_final_model = grid_search_dt.best_estimator_\n",
    "predictedy = dt_final_model.predict(testx)\n",
    "print(\"Training set score for dt: %f\" % dt_final_model.score(trainx, trainy_label))\n",
    "print(\"Testing  set score for dt: %f\" % dt_final_model.score(testx, testy_label))\n",
    "print(confusion_matrix(testy_label,predictedy))"
   ]
  },
  {
   "cell_type": "markdown",
   "id": "335fbf5e",
   "metadata": {},
   "source": [
    "# Random Forest"
   ]
  },
  {
   "cell_type": "code",
   "execution_count": null,
   "id": "c3ed6bfd",
   "metadata": {
    "collapsed": true
   },
   "outputs": [],
   "source": [
    " for criterion in ['gini', 'entropy']: \n",
    "    for max_depth in [None, 10, 20, 30]:\n",
    "        for n_estimators in [50, 100, 200]:\n",
    "            model = RandomForestClassifier(random_state=42,criterion=criterion,max_depth=max_depth, n_estimators= n_estimators)\n",
    "            model.fit(trainx,trainy_label)\n",
    "            print(\"Training set score for DT: %f\" % model.score(trainx, trainy_label))\n",
    "            print(\"Testing  set score for Dt: %f\" % model.score(testx, testy_label))       \n",
    "            print('&&----------------------------&&',criterion,max_depth,n_estimators) "
   ]
  },
  {
   "cell_type": "code",
   "execution_count": null,
   "id": "df1fbc6f",
   "metadata": {
    "collapsed": true
   },
   "outputs": [],
   "source": [
    "# model = RandomForestClassifier(random_state=42,min_samples_leaf=4)\n",
    "# model.fit(trainx,trainy_label)\n",
    "# print(\"Training set score for DT: %f\" % model.score(trainx, trainy_label))\n",
    "# print(\"Testing  set score for Dt: %f\" % model.score(testx, testy_label))"
   ]
  },
  {
   "cell_type": "code",
   "execution_count": null,
   "id": "d54b669f",
   "metadata": {
    "collapsed": true
   },
   "outputs": [],
   "source": [
    "param_grid_rf = {\n",
    "    'n_estimators': [70, 100, 150],      # Number of trees in the forest\n",
    "    'max_depth': [None,30,40,50,70,100],     # Maximum depth of each tree\n",
    "    'criterion': ['gini', 'entropy']     # Split criterion\n",
    "}\n",
    "grid_search_rf = GridSearchCV(estimator=RandomForestClassifier(random_state=42), param_grid=param_grid_rf, cv=5, verbose=2, n_jobs=-1)"
   ]
  },
  {
   "cell_type": "code",
   "execution_count": null,
   "id": "ccd58094",
   "metadata": {
    "collapsed": true
   },
   "outputs": [],
   "source": [
    "grid_search_rf.fit(trainx,trainy_label)"
   ]
  },
  {
   "cell_type": "code",
   "execution_count": null,
   "id": "b5dafe75",
   "metadata": {
    "collapsed": true
   },
   "outputs": [],
   "source": [
    "# View the accuracy score\n",
    "print('Best score for training data:', grid_search_rf.best_score_,\"\\n\") \n",
    "\n",
    "# View the best parameters for the model found using grid search\n",
    "print('Best criterion:',grid_search_rf.best_estimator_.criterion,\"\\n\") \n",
    "print('Best max_depth:',grid_search_rf.best_estimator_.max_depth,\"\\n\")\n",
    "print('Best n_estimators:',grid_search_rf.best_estimator_.n_estimators,\"\\n\")"
   ]
  },
  {
   "cell_type": "code",
   "execution_count": null,
   "id": "6d1c7a44",
   "metadata": {
    "collapsed": true
   },
   "outputs": [],
   "source": [
    "cv_result=pd.DataFrame(grid_search_rf.cv_results_)\n",
    "print(cv_result[['param_criterion', 'param_max_depth', 'param_n_estimators', \n",
    "                 'mean_test_score', 'rank_test_score']])"
   ]
  },
  {
   "cell_type": "code",
   "execution_count": null,
   "id": "ec62e2fe",
   "metadata": {
    "collapsed": true
   },
   "outputs": [],
   "source": [
    "rf_final_model = grid_search_rf.best_estimator_\n",
    "predictedy = rf_final_model.predict(testx)\n",
    "print(\"Training set score for rf: %f\" % rf_final_model.score(trainx, trainy_label))\n",
    "print(\"Testing  set score for dt: %f\" % rf_final_model.score(testx, testy_label))\n",
    "print(confusion_matrix(testy_label,predictedy))"
   ]
  },
  {
   "cell_type": "markdown",
   "id": "49c36b12",
   "metadata": {},
   "source": [
    "# KNN"
   ]
  },
  {
   "cell_type": "code",
   "execution_count": null,
   "id": "bb47d6ba",
   "metadata": {
    "collapsed": true
   },
   "outputs": [],
   "source": [
    "for metric in ['euclidean', 'manhattan']:\n",
    "    for weights in ['uniform', 'distance']:\n",
    "        for n_neighbors in [3, 5, 7, 9]:\n",
    "            model = KNeighborsClassifier(metric=metric,weights=weights, n_neighbors=n_neighbors)\n",
    "            model.fit(trainx,trainy_label)\n",
    "            print(\"Training set score for knn: %f\" % model.score(trainx, trainy_label))\n",
    "            print(\"Testing  set score for knn: %f\" % model.score(testx, testy_label))       \n",
    "            print('&&----------------------------&&',metric,weights,n_neighbors)"
   ]
  },
  {
   "cell_type": "code",
   "execution_count": null,
   "id": "b216703e",
   "metadata": {
    "collapsed": true
   },
   "outputs": [],
   "source": [
    "param_grid = {\n",
    "    'n_neighbors': [1,2, 3, 5],            # Number of neighbors to consider\n",
    "    'weights': ['uniform', 'distance'],     # Weight function (uniform or distance-based)\n",
    "    'metric': ['euclidean', 'manhattan']    # Distance metric\n",
    "}\n",
    "grid_search_knn = GridSearchCV(estimator=KNeighborsClassifier(), param_grid=param_grid, cv=5, verbose=2, n_jobs=-1)"
   ]
  },
  {
   "cell_type": "code",
   "execution_count": null,
   "id": "b06787fd",
   "metadata": {
    "collapsed": true
   },
   "outputs": [],
   "source": [
    "grid_search_knn.fit(trainx,trainy_label)"
   ]
  },
  {
   "cell_type": "code",
   "execution_count": null,
   "id": "4b6993f9",
   "metadata": {
    "collapsed": true
   },
   "outputs": [],
   "source": [
    "# View the accuracy score\n",
    "print('Best score for training data:', grid_search_knn.best_score_,\"\\n\") \n",
    "\n",
    "# View the best parameters for the model found using grid search\n",
    "print('Best criterion:',grid_search_knn.best_estimator_.n_neighbors,\"\\n\") \n",
    "print('Best max_depth:',grid_search_knn.best_estimator_.weights,\"\\n\")\n",
    "print('Best n_estimators:',grid_search_knn.best_estimator_.metric,\"\\n\")"
   ]
  },
  {
   "cell_type": "code",
   "execution_count": null,
   "id": "56590c42",
   "metadata": {
    "collapsed": true
   },
   "outputs": [],
   "source": [
    "knn_final_model = grid_search_knn.best_estimator_\n",
    "predictedy = knn_final_model.predict(testx)\n",
    "print(\"Training set score for knn: %f\" % knn_final_model.score(trainx, trainy_label))\n",
    "print(\"Testing  set score for knn: %f\" % knn_final_model.score(testx, testy_label))\n",
    "print(confusion_matrix(testy_label,predictedy))"
   ]
  },
  {
   "cell_type": "markdown",
   "id": "03307002",
   "metadata": {},
   "source": [
    "# Deep Learning"
   ]
  },
  {
   "cell_type": "code",
   "execution_count": null,
   "id": "a9e142b8",
   "metadata": {
    "collapsed": true
   },
   "outputs": [],
   "source": [
    "# First define baseline model. Then use it in Keras Classifier for the training\n",
    "# BatchNorm really improves the accuracy of the model\n",
    "def dl_model():\n",
    "    # Create model here\n",
    "    model = Sequential()\n",
    "    model.add(Input(shape=(5,)))\n",
    "    model.add(Dense(512))\n",
    "    model.add(BatchNormalization())\n",
    "    model.add(ReLU())\n",
    "    model.add(Dropout(0.1))\n",
    "    model.add(Dense(256))\n",
    "    model.add(BatchNormalization())\n",
    "    model.add(ReLU())\n",
    "    #model.add(Dropout(0.2))\n",
    "    model.add(Dense(128))\n",
    "    model.add(BatchNormalization())\n",
    "    model.add(ReLU())\n",
    "    model.add(Dropout(0.1))\n",
    "    model.add(Dense(64))\n",
    "    model.add(BatchNormalization())\n",
    "    model.add(ReLU())\n",
    "    #model.add(Dropout(0.2))\n",
    "    model.add(Dense(32))\n",
    "    model.add(BatchNormalization())\n",
    "    model.add(ReLU())\n",
    "    model.add(Dense(16))\n",
    "    model.add(BatchNormalization())\n",
    "    model.add(ReLU())\n",
    "    model.add(Dense(8, activation = 'softmax')) # Softmax for multi-class classification\n",
    "    # Compile model here\n",
    "    model.compile(loss = 'categorical_crossentropy', optimizer = 'adam', metrics = ['accuracy'])\n",
    "    return model"
   ]
  },
  {
   "cell_type": "code",
   "execution_count": null,
   "id": "80e1c9ba",
   "metadata": {
    "collapsed": true
   },
   "outputs": [],
   "source": [
    "#we are using MinMax Scaled data for training here\n",
    "early_stopping = EarlyStopping(\n",
    "    monitor='val_loss',  # Metric to monitor\n",
    "    patience=150,         # Number of epochs with no improvement after which training will be stopped\n",
    "    restore_best_weights=True,  # Restore model weights from the epoch with the best value of the monitored quantity\n",
    "    verbose = 1\n",
    ")\n",
    "dl_final_model = dl_model()\n",
    "history = dl_final_model.fit(dltrainx, trainy_hot, validation_split = 0.1, epochs = 400, verbose = 1, batch_size=32, callbacks=[early_stopping])   #default batch-size is 32"
   ]
  },
  {
   "cell_type": "code",
   "execution_count": null,
   "id": "a52d0807",
   "metadata": {
    "collapsed": true
   },
   "outputs": [],
   "source": [
    "plt.plot(history.history['loss'])\n",
    "plt.plot(history.history['val_loss'])\n",
    "plt.title('Training & Validation loss')\n",
    "plt.xlabel('epochs')\n",
    "plt.show()\n",
    "print(\"batch_size = 32\")\n",
    "plt.plot(history.history['accuracy'])\n",
    "plt.plot(history.history['val_accuracy'])\n",
    "plt.title('Training & Validation Accuracy')\n",
    "plt.xlabel('epochs')\n",
    "plt.show()\n",
    "#orange is validation"
   ]
  },
  {
   "cell_type": "code",
   "execution_count": null,
   "id": "def1f742",
   "metadata": {
    "collapsed": true
   },
   "outputs": [],
   "source": [
    "# Assuming you have your trained model 'dl_final_model' and evaluation data 'X_eval' and 'y_eval'\n",
    "loss, accuracy = dl_final_model.evaluate(dltestx, testy_hot, verbose=1)\n",
    "\n",
    "print(f\"Evaluation Loss: {loss}\")\n",
    "print(f\"Evaluation Accuracy: {accuracy}\")\n",
    "\n",
    "# best_epoch = np.argmax(history.history['val_accuracy'])\n",
    "# best_accuracy = history.history['val_accuracy'][best_epoch]\n",
    "# print(f\"Best epoch: {best_epoch}\")\n",
    "# print(f\"Best validation accuracy: {best_accuracy:.4f}\")"
   ]
  },
  {
   "cell_type": "code",
   "execution_count": null,
   "id": "1de20af6",
   "metadata": {
    "collapsed": true
   },
   "outputs": [],
   "source": [
    "dl_model_wrapped = KerasClassifier(model = dl_model, epochs = 300, batch_size = 32, verbose = 1)  #for scikit-learn wrapper\n",
    "kfold = KFold(n_splits = 5, shuffle = True)\n",
    "results = cross_val_score(dl_model_wrapped, dltrainx, trainy_hot, cv = kfold) #will only work if the estimator model is wrapped in scikit-learn \n",
    "#this basically trains our model five times with different validation sets (taken like in cv=5)\n",
    "#then averaging the accuracy we get for the 5 validation sets to get the final accuracy and std.\n",
    "print(\"Result: %.2f%% (%.2f%%)\" % (results.mean()*100, results.std()*100))"
   ]
  },
  {
   "cell_type": "code",
   "execution_count": 53,
   "id": "316fdaec",
   "metadata": {},
   "outputs": [],
   "source": [
    "from sklearn.linear_model import LogisticRegression"
   ]
  },
  {
   "cell_type": "code",
   "execution_count": 56,
   "id": "23d79b07",
   "metadata": {},
   "outputs": [],
   "source": [
    "model=LogisticRegression()\n",
    "#model.fit(trainx,trainy_label)"
   ]
  },
  {
   "cell_type": "code",
   "execution_count": 55,
   "id": "ff2ca7c8",
   "metadata": {},
   "outputs": [
    {
     "name": "stdout",
     "output_type": "stream",
     "text": [
      "Training set score for knn: 0.517651\n",
      "Testing  set score for knn: 0.508158\n"
     ]
    }
   ],
   "source": [
    "print(\"Training set score for knn: %f\" % model.score(trainx, trainy_label))\n",
    "print(\"Testing  set score for knn: %f\" % model.score(testx, testy_label))       \n",
    "#print('&&----------------------------&&',metric,weights,n_neighbors)"
   ]
  },
  {
   "cell_type": "code",
   "execution_count": 57,
   "id": "f96b2259",
   "metadata": {},
   "outputs": [],
   "source": [
    "param_grid = {\n",
    "    'C': [0.01, 0.1, 1, 10, 100],    # Regularization strength (Inverse of regularization)\n",
    "    'penalty': ['l2'],               # L2 regularization (L1 is not supported with 'multinomial')\n",
    "    'solver': ['newton-cg', 'lbfgs', 'saga'],  # Solvers supporting multinomial classification\n",
    "    'max_iter': [100, 200, 300]      # Number of iterations for optimization\n",
    "}\n",
    "grid_search = GridSearchCV(estimator=model, param_grid=param_grid, cv=5, verbose=1, n_jobs=-1, scoring='accuracy')"
   ]
  },
  {
   "cell_type": "code",
   "execution_count": 58,
   "id": "b1661f56",
   "metadata": {},
   "outputs": [
    {
     "name": "stdout",
     "output_type": "stream",
     "text": [
      "Fitting 5 folds for each of 45 candidates, totalling 225 fits\n"
     ]
    },
    {
     "data": {
      "text/html": [
       "<style>#sk-container-id-4 {\n",
       "  /* Definition of color scheme common for light and dark mode */\n",
       "  --sklearn-color-text: black;\n",
       "  --sklearn-color-line: gray;\n",
       "  /* Definition of color scheme for unfitted estimators */\n",
       "  --sklearn-color-unfitted-level-0: #fff5e6;\n",
       "  --sklearn-color-unfitted-level-1: #f6e4d2;\n",
       "  --sklearn-color-unfitted-level-2: #ffe0b3;\n",
       "  --sklearn-color-unfitted-level-3: chocolate;\n",
       "  /* Definition of color scheme for fitted estimators */\n",
       "  --sklearn-color-fitted-level-0: #f0f8ff;\n",
       "  --sklearn-color-fitted-level-1: #d4ebff;\n",
       "  --sklearn-color-fitted-level-2: #b3dbfd;\n",
       "  --sklearn-color-fitted-level-3: cornflowerblue;\n",
       "\n",
       "  /* Specific color for light theme */\n",
       "  --sklearn-color-text-on-default-background: var(--sg-text-color, var(--theme-code-foreground, var(--jp-content-font-color1, black)));\n",
       "  --sklearn-color-background: var(--sg-background-color, var(--theme-background, var(--jp-layout-color0, white)));\n",
       "  --sklearn-color-border-box: var(--sg-text-color, var(--theme-code-foreground, var(--jp-content-font-color1, black)));\n",
       "  --sklearn-color-icon: #696969;\n",
       "\n",
       "  @media (prefers-color-scheme: dark) {\n",
       "    /* Redefinition of color scheme for dark theme */\n",
       "    --sklearn-color-text-on-default-background: var(--sg-text-color, var(--theme-code-foreground, var(--jp-content-font-color1, white)));\n",
       "    --sklearn-color-background: var(--sg-background-color, var(--theme-background, var(--jp-layout-color0, #111)));\n",
       "    --sklearn-color-border-box: var(--sg-text-color, var(--theme-code-foreground, var(--jp-content-font-color1, white)));\n",
       "    --sklearn-color-icon: #878787;\n",
       "  }\n",
       "}\n",
       "\n",
       "#sk-container-id-4 {\n",
       "  color: var(--sklearn-color-text);\n",
       "}\n",
       "\n",
       "#sk-container-id-4 pre {\n",
       "  padding: 0;\n",
       "}\n",
       "\n",
       "#sk-container-id-4 input.sk-hidden--visually {\n",
       "  border: 0;\n",
       "  clip: rect(1px 1px 1px 1px);\n",
       "  clip: rect(1px, 1px, 1px, 1px);\n",
       "  height: 1px;\n",
       "  margin: -1px;\n",
       "  overflow: hidden;\n",
       "  padding: 0;\n",
       "  position: absolute;\n",
       "  width: 1px;\n",
       "}\n",
       "\n",
       "#sk-container-id-4 div.sk-dashed-wrapped {\n",
       "  border: 1px dashed var(--sklearn-color-line);\n",
       "  margin: 0 0.4em 0.5em 0.4em;\n",
       "  box-sizing: border-box;\n",
       "  padding-bottom: 0.4em;\n",
       "  background-color: var(--sklearn-color-background);\n",
       "}\n",
       "\n",
       "#sk-container-id-4 div.sk-container {\n",
       "  /* jupyter's `normalize.less` sets `[hidden] { display: none; }`\n",
       "     but bootstrap.min.css set `[hidden] { display: none !important; }`\n",
       "     so we also need the `!important` here to be able to override the\n",
       "     default hidden behavior on the sphinx rendered scikit-learn.org.\n",
       "     See: https://github.com/scikit-learn/scikit-learn/issues/21755 */\n",
       "  display: inline-block !important;\n",
       "  position: relative;\n",
       "}\n",
       "\n",
       "#sk-container-id-4 div.sk-text-repr-fallback {\n",
       "  display: none;\n",
       "}\n",
       "\n",
       "div.sk-parallel-item,\n",
       "div.sk-serial,\n",
       "div.sk-item {\n",
       "  /* draw centered vertical line to link estimators */\n",
       "  background-image: linear-gradient(var(--sklearn-color-text-on-default-background), var(--sklearn-color-text-on-default-background));\n",
       "  background-size: 2px 100%;\n",
       "  background-repeat: no-repeat;\n",
       "  background-position: center center;\n",
       "}\n",
       "\n",
       "/* Parallel-specific style estimator block */\n",
       "\n",
       "#sk-container-id-4 div.sk-parallel-item::after {\n",
       "  content: \"\";\n",
       "  width: 100%;\n",
       "  border-bottom: 2px solid var(--sklearn-color-text-on-default-background);\n",
       "  flex-grow: 1;\n",
       "}\n",
       "\n",
       "#sk-container-id-4 div.sk-parallel {\n",
       "  display: flex;\n",
       "  align-items: stretch;\n",
       "  justify-content: center;\n",
       "  background-color: var(--sklearn-color-background);\n",
       "  position: relative;\n",
       "}\n",
       "\n",
       "#sk-container-id-4 div.sk-parallel-item {\n",
       "  display: flex;\n",
       "  flex-direction: column;\n",
       "}\n",
       "\n",
       "#sk-container-id-4 div.sk-parallel-item:first-child::after {\n",
       "  align-self: flex-end;\n",
       "  width: 50%;\n",
       "}\n",
       "\n",
       "#sk-container-id-4 div.sk-parallel-item:last-child::after {\n",
       "  align-self: flex-start;\n",
       "  width: 50%;\n",
       "}\n",
       "\n",
       "#sk-container-id-4 div.sk-parallel-item:only-child::after {\n",
       "  width: 0;\n",
       "}\n",
       "\n",
       "/* Serial-specific style estimator block */\n",
       "\n",
       "#sk-container-id-4 div.sk-serial {\n",
       "  display: flex;\n",
       "  flex-direction: column;\n",
       "  align-items: center;\n",
       "  background-color: var(--sklearn-color-background);\n",
       "  padding-right: 1em;\n",
       "  padding-left: 1em;\n",
       "}\n",
       "\n",
       "\n",
       "/* Toggleable style: style used for estimator/Pipeline/ColumnTransformer box that is\n",
       "clickable and can be expanded/collapsed.\n",
       "- Pipeline and ColumnTransformer use this feature and define the default style\n",
       "- Estimators will overwrite some part of the style using the `sk-estimator` class\n",
       "*/\n",
       "\n",
       "/* Pipeline and ColumnTransformer style (default) */\n",
       "\n",
       "#sk-container-id-4 div.sk-toggleable {\n",
       "  /* Default theme specific background. It is overwritten whether we have a\n",
       "  specific estimator or a Pipeline/ColumnTransformer */\n",
       "  background-color: var(--sklearn-color-background);\n",
       "}\n",
       "\n",
       "/* Toggleable label */\n",
       "#sk-container-id-4 label.sk-toggleable__label {\n",
       "  cursor: pointer;\n",
       "  display: block;\n",
       "  width: 100%;\n",
       "  margin-bottom: 0;\n",
       "  padding: 0.5em;\n",
       "  box-sizing: border-box;\n",
       "  text-align: center;\n",
       "}\n",
       "\n",
       "#sk-container-id-4 label.sk-toggleable__label-arrow:before {\n",
       "  /* Arrow on the left of the label */\n",
       "  content: \"▸\";\n",
       "  float: left;\n",
       "  margin-right: 0.25em;\n",
       "  color: var(--sklearn-color-icon);\n",
       "}\n",
       "\n",
       "#sk-container-id-4 label.sk-toggleable__label-arrow:hover:before {\n",
       "  color: var(--sklearn-color-text);\n",
       "}\n",
       "\n",
       "/* Toggleable content - dropdown */\n",
       "\n",
       "#sk-container-id-4 div.sk-toggleable__content {\n",
       "  max-height: 0;\n",
       "  max-width: 0;\n",
       "  overflow: hidden;\n",
       "  text-align: left;\n",
       "  /* unfitted */\n",
       "  background-color: var(--sklearn-color-unfitted-level-0);\n",
       "}\n",
       "\n",
       "#sk-container-id-4 div.sk-toggleable__content.fitted {\n",
       "  /* fitted */\n",
       "  background-color: var(--sklearn-color-fitted-level-0);\n",
       "}\n",
       "\n",
       "#sk-container-id-4 div.sk-toggleable__content pre {\n",
       "  margin: 0.2em;\n",
       "  border-radius: 0.25em;\n",
       "  color: var(--sklearn-color-text);\n",
       "  /* unfitted */\n",
       "  background-color: var(--sklearn-color-unfitted-level-0);\n",
       "}\n",
       "\n",
       "#sk-container-id-4 div.sk-toggleable__content.fitted pre {\n",
       "  /* unfitted */\n",
       "  background-color: var(--sklearn-color-fitted-level-0);\n",
       "}\n",
       "\n",
       "#sk-container-id-4 input.sk-toggleable__control:checked~div.sk-toggleable__content {\n",
       "  /* Expand drop-down */\n",
       "  max-height: 200px;\n",
       "  max-width: 100%;\n",
       "  overflow: auto;\n",
       "}\n",
       "\n",
       "#sk-container-id-4 input.sk-toggleable__control:checked~label.sk-toggleable__label-arrow:before {\n",
       "  content: \"▾\";\n",
       "}\n",
       "\n",
       "/* Pipeline/ColumnTransformer-specific style */\n",
       "\n",
       "#sk-container-id-4 div.sk-label input.sk-toggleable__control:checked~label.sk-toggleable__label {\n",
       "  color: var(--sklearn-color-text);\n",
       "  background-color: var(--sklearn-color-unfitted-level-2);\n",
       "}\n",
       "\n",
       "#sk-container-id-4 div.sk-label.fitted input.sk-toggleable__control:checked~label.sk-toggleable__label {\n",
       "  background-color: var(--sklearn-color-fitted-level-2);\n",
       "}\n",
       "\n",
       "/* Estimator-specific style */\n",
       "\n",
       "/* Colorize estimator box */\n",
       "#sk-container-id-4 div.sk-estimator input.sk-toggleable__control:checked~label.sk-toggleable__label {\n",
       "  /* unfitted */\n",
       "  background-color: var(--sklearn-color-unfitted-level-2);\n",
       "}\n",
       "\n",
       "#sk-container-id-4 div.sk-estimator.fitted input.sk-toggleable__control:checked~label.sk-toggleable__label {\n",
       "  /* fitted */\n",
       "  background-color: var(--sklearn-color-fitted-level-2);\n",
       "}\n",
       "\n",
       "#sk-container-id-4 div.sk-label label.sk-toggleable__label,\n",
       "#sk-container-id-4 div.sk-label label {\n",
       "  /* The background is the default theme color */\n",
       "  color: var(--sklearn-color-text-on-default-background);\n",
       "}\n",
       "\n",
       "/* On hover, darken the color of the background */\n",
       "#sk-container-id-4 div.sk-label:hover label.sk-toggleable__label {\n",
       "  color: var(--sklearn-color-text);\n",
       "  background-color: var(--sklearn-color-unfitted-level-2);\n",
       "}\n",
       "\n",
       "/* Label box, darken color on hover, fitted */\n",
       "#sk-container-id-4 div.sk-label.fitted:hover label.sk-toggleable__label.fitted {\n",
       "  color: var(--sklearn-color-text);\n",
       "  background-color: var(--sklearn-color-fitted-level-2);\n",
       "}\n",
       "\n",
       "/* Estimator label */\n",
       "\n",
       "#sk-container-id-4 div.sk-label label {\n",
       "  font-family: monospace;\n",
       "  font-weight: bold;\n",
       "  display: inline-block;\n",
       "  line-height: 1.2em;\n",
       "}\n",
       "\n",
       "#sk-container-id-4 div.sk-label-container {\n",
       "  text-align: center;\n",
       "}\n",
       "\n",
       "/* Estimator-specific */\n",
       "#sk-container-id-4 div.sk-estimator {\n",
       "  font-family: monospace;\n",
       "  border: 1px dotted var(--sklearn-color-border-box);\n",
       "  border-radius: 0.25em;\n",
       "  box-sizing: border-box;\n",
       "  margin-bottom: 0.5em;\n",
       "  /* unfitted */\n",
       "  background-color: var(--sklearn-color-unfitted-level-0);\n",
       "}\n",
       "\n",
       "#sk-container-id-4 div.sk-estimator.fitted {\n",
       "  /* fitted */\n",
       "  background-color: var(--sklearn-color-fitted-level-0);\n",
       "}\n",
       "\n",
       "/* on hover */\n",
       "#sk-container-id-4 div.sk-estimator:hover {\n",
       "  /* unfitted */\n",
       "  background-color: var(--sklearn-color-unfitted-level-2);\n",
       "}\n",
       "\n",
       "#sk-container-id-4 div.sk-estimator.fitted:hover {\n",
       "  /* fitted */\n",
       "  background-color: var(--sklearn-color-fitted-level-2);\n",
       "}\n",
       "\n",
       "/* Specification for estimator info (e.g. \"i\" and \"?\") */\n",
       "\n",
       "/* Common style for \"i\" and \"?\" */\n",
       "\n",
       ".sk-estimator-doc-link,\n",
       "a:link.sk-estimator-doc-link,\n",
       "a:visited.sk-estimator-doc-link {\n",
       "  float: right;\n",
       "  font-size: smaller;\n",
       "  line-height: 1em;\n",
       "  font-family: monospace;\n",
       "  background-color: var(--sklearn-color-background);\n",
       "  border-radius: 1em;\n",
       "  height: 1em;\n",
       "  width: 1em;\n",
       "  text-decoration: none !important;\n",
       "  margin-left: 1ex;\n",
       "  /* unfitted */\n",
       "  border: var(--sklearn-color-unfitted-level-1) 1pt solid;\n",
       "  color: var(--sklearn-color-unfitted-level-1);\n",
       "}\n",
       "\n",
       ".sk-estimator-doc-link.fitted,\n",
       "a:link.sk-estimator-doc-link.fitted,\n",
       "a:visited.sk-estimator-doc-link.fitted {\n",
       "  /* fitted */\n",
       "  border: var(--sklearn-color-fitted-level-1) 1pt solid;\n",
       "  color: var(--sklearn-color-fitted-level-1);\n",
       "}\n",
       "\n",
       "/* On hover */\n",
       "div.sk-estimator:hover .sk-estimator-doc-link:hover,\n",
       ".sk-estimator-doc-link:hover,\n",
       "div.sk-label-container:hover .sk-estimator-doc-link:hover,\n",
       ".sk-estimator-doc-link:hover {\n",
       "  /* unfitted */\n",
       "  background-color: var(--sklearn-color-unfitted-level-3);\n",
       "  color: var(--sklearn-color-background);\n",
       "  text-decoration: none;\n",
       "}\n",
       "\n",
       "div.sk-estimator.fitted:hover .sk-estimator-doc-link.fitted:hover,\n",
       ".sk-estimator-doc-link.fitted:hover,\n",
       "div.sk-label-container:hover .sk-estimator-doc-link.fitted:hover,\n",
       ".sk-estimator-doc-link.fitted:hover {\n",
       "  /* fitted */\n",
       "  background-color: var(--sklearn-color-fitted-level-3);\n",
       "  color: var(--sklearn-color-background);\n",
       "  text-decoration: none;\n",
       "}\n",
       "\n",
       "/* Span, style for the box shown on hovering the info icon */\n",
       ".sk-estimator-doc-link span {\n",
       "  display: none;\n",
       "  z-index: 9999;\n",
       "  position: relative;\n",
       "  font-weight: normal;\n",
       "  right: .2ex;\n",
       "  padding: .5ex;\n",
       "  margin: .5ex;\n",
       "  width: min-content;\n",
       "  min-width: 20ex;\n",
       "  max-width: 50ex;\n",
       "  color: var(--sklearn-color-text);\n",
       "  box-shadow: 2pt 2pt 4pt #999;\n",
       "  /* unfitted */\n",
       "  background: var(--sklearn-color-unfitted-level-0);\n",
       "  border: .5pt solid var(--sklearn-color-unfitted-level-3);\n",
       "}\n",
       "\n",
       ".sk-estimator-doc-link.fitted span {\n",
       "  /* fitted */\n",
       "  background: var(--sklearn-color-fitted-level-0);\n",
       "  border: var(--sklearn-color-fitted-level-3);\n",
       "}\n",
       "\n",
       ".sk-estimator-doc-link:hover span {\n",
       "  display: block;\n",
       "}\n",
       "\n",
       "/* \"?\"-specific style due to the `<a>` HTML tag */\n",
       "\n",
       "#sk-container-id-4 a.estimator_doc_link {\n",
       "  float: right;\n",
       "  font-size: 1rem;\n",
       "  line-height: 1em;\n",
       "  font-family: monospace;\n",
       "  background-color: var(--sklearn-color-background);\n",
       "  border-radius: 1rem;\n",
       "  height: 1rem;\n",
       "  width: 1rem;\n",
       "  text-decoration: none;\n",
       "  /* unfitted */\n",
       "  color: var(--sklearn-color-unfitted-level-1);\n",
       "  border: var(--sklearn-color-unfitted-level-1) 1pt solid;\n",
       "}\n",
       "\n",
       "#sk-container-id-4 a.estimator_doc_link.fitted {\n",
       "  /* fitted */\n",
       "  border: var(--sklearn-color-fitted-level-1) 1pt solid;\n",
       "  color: var(--sklearn-color-fitted-level-1);\n",
       "}\n",
       "\n",
       "/* On hover */\n",
       "#sk-container-id-4 a.estimator_doc_link:hover {\n",
       "  /* unfitted */\n",
       "  background-color: var(--sklearn-color-unfitted-level-3);\n",
       "  color: var(--sklearn-color-background);\n",
       "  text-decoration: none;\n",
       "}\n",
       "\n",
       "#sk-container-id-4 a.estimator_doc_link.fitted:hover {\n",
       "  /* fitted */\n",
       "  background-color: var(--sklearn-color-fitted-level-3);\n",
       "}\n",
       "</style><div id=\"sk-container-id-4\" class=\"sk-top-container\"><div class=\"sk-text-repr-fallback\"><pre>GridSearchCV(cv=5, estimator=LogisticRegression(), n_jobs=-1,\n",
       "             param_grid={&#x27;C&#x27;: [0.01, 0.1, 1, 10, 100],\n",
       "                         &#x27;max_iter&#x27;: [100, 200, 300], &#x27;penalty&#x27;: [&#x27;l2&#x27;],\n",
       "                         &#x27;solver&#x27;: [&#x27;newton-cg&#x27;, &#x27;lbfgs&#x27;, &#x27;saga&#x27;]},\n",
       "             scoring=&#x27;accuracy&#x27;, verbose=1)</pre><b>In a Jupyter environment, please rerun this cell to show the HTML representation or trust the notebook. <br />On GitHub, the HTML representation is unable to render, please try loading this page with nbviewer.org.</b></div><div class=\"sk-container\" hidden><div class=\"sk-item sk-dashed-wrapped\"><div class=\"sk-label-container\"><div class=\"sk-label fitted sk-toggleable\"><input class=\"sk-toggleable__control sk-hidden--visually\" id=\"sk-estimator-id-4\" type=\"checkbox\" ><label for=\"sk-estimator-id-4\" class=\"sk-toggleable__label fitted sk-toggleable__label-arrow fitted\">&nbsp;&nbsp;GridSearchCV<a class=\"sk-estimator-doc-link fitted\" rel=\"noreferrer\" target=\"_blank\" href=\"https://scikit-learn.org/1.5/modules/generated/sklearn.model_selection.GridSearchCV.html\">?<span>Documentation for GridSearchCV</span></a><span class=\"sk-estimator-doc-link fitted\">i<span>Fitted</span></span></label><div class=\"sk-toggleable__content fitted\"><pre>GridSearchCV(cv=5, estimator=LogisticRegression(), n_jobs=-1,\n",
       "             param_grid={&#x27;C&#x27;: [0.01, 0.1, 1, 10, 100],\n",
       "                         &#x27;max_iter&#x27;: [100, 200, 300], &#x27;penalty&#x27;: [&#x27;l2&#x27;],\n",
       "                         &#x27;solver&#x27;: [&#x27;newton-cg&#x27;, &#x27;lbfgs&#x27;, &#x27;saga&#x27;]},\n",
       "             scoring=&#x27;accuracy&#x27;, verbose=1)</pre></div> </div></div><div class=\"sk-parallel\"><div class=\"sk-parallel-item\"><div class=\"sk-item\"><div class=\"sk-label-container\"><div class=\"sk-label fitted sk-toggleable\"><input class=\"sk-toggleable__control sk-hidden--visually\" id=\"sk-estimator-id-5\" type=\"checkbox\" ><label for=\"sk-estimator-id-5\" class=\"sk-toggleable__label fitted sk-toggleable__label-arrow fitted\">best_estimator_: LogisticRegression</label><div class=\"sk-toggleable__content fitted\"><pre>LogisticRegression(C=100, solver=&#x27;newton-cg&#x27;)</pre></div> </div></div><div class=\"sk-serial\"><div class=\"sk-item\"><div class=\"sk-estimator fitted sk-toggleable\"><input class=\"sk-toggleable__control sk-hidden--visually\" id=\"sk-estimator-id-6\" type=\"checkbox\" ><label for=\"sk-estimator-id-6\" class=\"sk-toggleable__label fitted sk-toggleable__label-arrow fitted\">&nbsp;LogisticRegression<a class=\"sk-estimator-doc-link fitted\" rel=\"noreferrer\" target=\"_blank\" href=\"https://scikit-learn.org/1.5/modules/generated/sklearn.linear_model.LogisticRegression.html\">?<span>Documentation for LogisticRegression</span></a></label><div class=\"sk-toggleable__content fitted\"><pre>LogisticRegression(C=100, solver=&#x27;newton-cg&#x27;)</pre></div> </div></div></div></div></div></div></div></div></div>"
      ],
      "text/plain": [
       "GridSearchCV(cv=5, estimator=LogisticRegression(), n_jobs=-1,\n",
       "             param_grid={'C': [0.01, 0.1, 1, 10, 100],\n",
       "                         'max_iter': [100, 200, 300], 'penalty': ['l2'],\n",
       "                         'solver': ['newton-cg', 'lbfgs', 'saga']},\n",
       "             scoring='accuracy', verbose=1)"
      ]
     },
     "execution_count": 58,
     "metadata": {},
     "output_type": "execute_result"
    }
   ],
   "source": [
    "grid_search.fit(trainx, trainy_label)"
   ]
  },
  {
   "cell_type": "code",
   "execution_count": 60,
   "id": "b6d9428e",
   "metadata": {},
   "outputs": [
    {
     "name": "stdout",
     "output_type": "stream",
     "text": [
      "Best score for training data: 0.5168077689508231 \n",
      "\n"
     ]
    },
    {
     "ename": "AttributeError",
     "evalue": "'LogisticRegression' object has no attribute 'n_neighbors'",
     "output_type": "error",
     "traceback": [
      "\u001b[1;31m---------------------------------------------------------------------------\u001b[0m",
      "\u001b[1;31mAttributeError\u001b[0m                            Traceback (most recent call last)",
      "Cell \u001b[1;32mIn[60], line 5\u001b[0m\n\u001b[0;32m      2\u001b[0m \u001b[38;5;28mprint\u001b[39m(\u001b[38;5;124m'\u001b[39m\u001b[38;5;124mBest score for training data:\u001b[39m\u001b[38;5;124m'\u001b[39m, grid_search\u001b[38;5;241m.\u001b[39mbest_score_,\u001b[38;5;124m\"\u001b[39m\u001b[38;5;130;01m\\n\u001b[39;00m\u001b[38;5;124m\"\u001b[39m) \n\u001b[0;32m      4\u001b[0m \u001b[38;5;66;03m# View the best parameters for the model found using grid search\u001b[39;00m\n\u001b[1;32m----> 5\u001b[0m \u001b[38;5;28mprint\u001b[39m(\u001b[38;5;124m'\u001b[39m\u001b[38;5;124mBest criterion:\u001b[39m\u001b[38;5;124m'\u001b[39m,grid_search\u001b[38;5;241m.\u001b[39mbest_estimator_\u001b[38;5;241m.\u001b[39mn_neighbors,\u001b[38;5;124m\"\u001b[39m\u001b[38;5;130;01m\\n\u001b[39;00m\u001b[38;5;124m\"\u001b[39m) \n\u001b[0;32m      6\u001b[0m \u001b[38;5;28mprint\u001b[39m(\u001b[38;5;124m'\u001b[39m\u001b[38;5;124mBest max_depth:\u001b[39m\u001b[38;5;124m'\u001b[39m,grid_search\u001b[38;5;241m.\u001b[39mbest_estimator_\u001b[38;5;241m.\u001b[39mweights,\u001b[38;5;124m\"\u001b[39m\u001b[38;5;130;01m\\n\u001b[39;00m\u001b[38;5;124m\"\u001b[39m)\n\u001b[0;32m      7\u001b[0m \u001b[38;5;28mprint\u001b[39m(\u001b[38;5;124m'\u001b[39m\u001b[38;5;124mBest n_estimators:\u001b[39m\u001b[38;5;124m'\u001b[39m,grid_search\u001b[38;5;241m.\u001b[39mbest_estimator_\u001b[38;5;241m.\u001b[39mmetric,\u001b[38;5;124m\"\u001b[39m\u001b[38;5;130;01m\\n\u001b[39;00m\u001b[38;5;124m\"\u001b[39m)\n",
      "\u001b[1;31mAttributeError\u001b[0m: 'LogisticRegression' object has no attribute 'n_neighbors'"
     ]
    }
   ],
   "source": [
    "# View the accuracy score\n",
    "print('Best score for training data:', grid_search.best_score_,\"\\n\") \n",
    "\n",
    "# View the best parameters for the model found using grid search\n",
    "print('Best criterion:',grid_search.best_estimator_.n_neighbors,\"\\n\") \n",
    "print('Best max_depth:',grid_search.best_estimator_.weights,\"\\n\")\n",
    "print('Best n_estimators:',grid_search.best_estimator_.metric,\"\\n\")"
   ]
  },
  {
   "cell_type": "code",
   "execution_count": 61,
   "id": "dbc92dcb",
   "metadata": {},
   "outputs": [
    {
     "name": "stdout",
     "output_type": "stream",
     "text": [
      "Training set score for knn: 0.518746\n",
      "Testing  set score for knn: 0.508944\n",
      "[[172  18  77  77  57   1 133  84]\n",
      " [109 453   8 110  25   5  59   7]\n",
      " [ 43  30 490 164  21  17  12   7]\n",
      " [ 99  75 206 183  29   7  41  54]\n",
      " [ 37  11   2  84 257  39  32   8]\n",
      " [ 24   4   8  78  44 220   0   2]\n",
      " [ 51  43  10 140  48   0 397  50]\n",
      " [ 24  15  27  57  70  15   0 417]]\n"
     ]
    }
   ],
   "source": [
    "knn_final_model = grid_search.best_estimator_\n",
    "predictedy = knn_final_model.predict(testx)\n",
    "print(\"Training set score for knn: %f\" % knn_final_model.score(trainx, trainy_label))\n",
    "print(\"Testing  set score for knn: %f\" % knn_final_model.score(testx, testy_label))\n",
    "print(confusion_matrix(testy_label,predictedy))"
   ]
  },
  {
   "cell_type": "code",
   "execution_count": null,
   "id": "ab53c057",
   "metadata": {},
   "outputs": [],
   "source": []
  }
 ],
 "metadata": {
  "kernelspec": {
   "display_name": "Python 3 (ipykernel)",
   "language": "python",
   "name": "python3"
  },
  "language_info": {
   "codemirror_mode": {
    "name": "ipython",
    "version": 3
   },
   "file_extension": ".py",
   "mimetype": "text/x-python",
   "name": "python",
   "nbconvert_exporter": "python",
   "pygments_lexer": "ipython3",
   "version": "3.11.5"
  }
 },
 "nbformat": 4,
 "nbformat_minor": 5
}
